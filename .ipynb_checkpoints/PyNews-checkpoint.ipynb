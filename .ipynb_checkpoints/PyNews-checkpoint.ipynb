{
 "cells": [
  {
   "cell_type": "code",
   "execution_count": 3,
   "metadata": {},
   "outputs": [],
   "source": [
    "# Dependencies\n",
    "import tweepy\n",
    "import numpy as np\n",
    "import pandas as pd\n",
    "from datetime import datetime\n",
    "import matplotlib.pyplot as plt\n",
    "from matplotlib import style\n",
    "style.use('ggplot')\n",
    "\n",
    "# Import and Initialize Sentiment Analyzer\n",
    "from vaderSentiment.vaderSentiment import SentimentIntensityAnalyzer\n",
    "analyzer = SentimentIntensityAnalyzer()\n",
    "\n",
    "# Twitter API Keys\n",
    "consumer_key = \"YOUR CONSUMER KEY\" \n",
    "consumer_secret = \"YOUR CONSUMER SECRET\"\n",
    "access_token = \"YOUR TOKEN\"\n",
    "access_token_secret = \"YOUR TOKEN SECRET\"\n",
    "\n",
    "# Setup Tweepy API Authentication\n",
    "auth = tweepy.OAuthHandler(consumer_key, consumer_secret)\n",
    "auth.set_access_token(access_token, access_token_secret)\n",
    "api = tweepy.API(auth, parser=tweepy.parsers.JSONParser())"
   ]
  },
  {
   "cell_type": "code",
   "execution_count": 4,
   "metadata": {},
   "outputs": [
    {
     "name": "stdout",
     "output_type": "stream",
     "text": [
      "{'User': '@BBCNews', 'Compound': -0.157693, 'Positive': 0.05026, 'Neutral': 0.13734, 'Negative': 0.8123999999999999, 'Tweet Count': 100}\n",
      "\n",
      "{'User': '@CBS', 'Compound': 0.340953, 'Positive': 0.16154, 'Neutral': 0.02249, 'Negative': 0.8159500000000002, 'Tweet Count': 100}\n",
      "\n",
      "{'User': '@CNN', 'Compound': -0.051200999999999997, 'Positive': 0.04633, 'Neutral': 0.06387999999999999, 'Negative': 0.8897700000000001, 'Tweet Count': 100}\n",
      "\n",
      "{'User': '@FoxNews', 'Compound': -0.053066, 'Positive': 0.06896, 'Neutral': 0.09573000000000001, 'Negative': 0.8353100000000001, 'Tweet Count': 100}\n",
      "\n",
      "{'User': '@nytimes', 'Compound': -0.023621000000000003, 'Positive': 0.04855, 'Neutral': 0.06141, 'Negative': 0.8900100000000001, 'Tweet Count': 100}\n",
      "\n"
     ]
    }
   ],
   "source": [
    "# Target News Account\n",
    "target_users = [\"@BBCNews\", \"@CBS\", \"@CNN\", \"@FoxNews\",\"@nytimes\"]\n",
    "\n",
    "# List to hold Target News sentiments results\n",
    "results_list = []\n",
    "\n",
    "# Loop through all target News Accounts on Twitter\n",
    "for target_user in target_users:\n",
    "    \n",
    "    # Variables for holding sentiments for target News Accounts\n",
    "    compound_list = []\n",
    "    positive_list = []\n",
    "    negative_list = []\n",
    "    neutral_list = []\n",
    "\n",
    "    # Variable for max_id\n",
    "    oldest_tweet = None\n",
    "\n",
    "    # Loop through 5 pages of tweets (total 100 tweets)\n",
    "    for x in range(5):\n",
    "\n",
    "        # Get all tweets from home feed\n",
    "        public_tweets = api.user_timeline(target_user, max_id = oldest_tweet, page=x)\n",
    "        \n",
    "        # Loop through all tweets \n",
    "        for tweet in public_tweets:\n",
    "\n",
    "            # Run Vader Analysis on each tweet\n",
    "            results = analyzer.polarity_scores(tweet[\"text\"])\n",
    "            compound = results[\"compound\"]\n",
    "            pos = results[\"pos\"]\n",
    "            neu = results[\"neu\"]\n",
    "            neg = results[\"neg\"]\n",
    "            \n",
    "            # Add each value to the appropriate list\n",
    "            compound_list.append(compound)\n",
    "            positive_list.append(pos)\n",
    "            negative_list.append(neg)\n",
    "            neutral_list.append(neu)\n",
    "\n",
    "            # Get Tweet ID, subtract 1, and assign to oldest_tweet\n",
    "            oldest_tweet = tweet['id'] - 1\n",
    "\n",
    "    \n",
    "    # Store the Average Sentiments for all target News Accounts\n",
    "    sentiment = {\n",
    "        \"User\": target_user,\n",
    "        \"Compound\": np.mean(compound_list),\n",
    "        \"Positive\": np.mean(positive_list),\n",
    "        \"Neutral\": np.mean(negative_list),\n",
    "        \"Negative\": np.mean(neutral_list),\n",
    "        \"Tweet Count\": len(compound_list)\n",
    "    }\n",
    "\n",
    "    # Print the Sentiments\n",
    "    print(sentiment)\n",
    "    print()\n",
    "\n",
    "    # Append target News results to 'results_list'\n",
    "    results_list.append(sentiment)"
   ]
  },
  {
   "cell_type": "code",
   "execution_count": null,
   "metadata": {},
   "outputs": [],
   "source": [
    "# Convert target News sentiments to DataFrame\n",
    "sentiments_pd = pd.DataFrame(results_list).set_index(\"User\").round(3)\n",
    "sentiments_pd.head()"
   ]
  },
  {
   "cell_type": "code",
   "execution_count": null,
   "metadata": {
    "collapsed": true
   },
   "outputs": [],
   "source": []
  }
 ],
 "metadata": {
  "kernelspec": {
   "display_name": "Python 3",
   "language": "python",
   "name": "python3"
  },
  "language_info": {
   "codemirror_mode": {
    "name": "ipython",
    "version": 3
   },
   "file_extension": ".py",
   "mimetype": "text/x-python",
   "name": "python",
   "nbconvert_exporter": "python",
   "pygments_lexer": "ipython3",
   "version": "3.6.4"
  }
 },
 "nbformat": 4,
 "nbformat_minor": 2
}
