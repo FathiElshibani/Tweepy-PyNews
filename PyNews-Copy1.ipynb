{
 "cells": [
  {
   "cell_type": "code",
   "execution_count": 14,
   "metadata": {},
   "outputs": [],
   "source": [
    "# Dependencies\n",
    "import tweepy\n",
    "import numpy as np\n",
    "import pandas as pd\n",
    "from datetime import datetime\n",
    "import matplotlib.pyplot as plt\n",
    "from matplotlib import style\n",
    "style.use('ggplot')\n",
    "\n",
    "# Import and Initialize Sentiment Analyzer\n",
    "from vaderSentiment.vaderSentiment import SentimentIntensityAnalyzer\n",
    "analyzer = SentimentIntensityAnalyzer()\n",
    "\n",
    "# Twitter API Keys\n",
    "consumer_key = \"XbQt8htonl2RP21emlMI5yULP\" \n",
    "consumer_secret = \"rMgMjW7bpN6KAhXKnqpwvhAKxh6P9HyPhfpw8dO3tB0FLQuydD\"\n",
    "access_token = \"876868686-J3K7ClaCSysEdYvjxbW9CJ6cOkOyGXRyXrVShEM4\"\n",
    "access_token_secret = \"WWivEYrJhyPjtrLLXOweAwTErLh0RKC2Hvi4NQuOi5x4b\"\n",
    "\n",
    "# Setup Tweepy API Authentication\n",
    "auth = tweepy.OAuthHandler(consumer_key, consumer_secret)\n",
    "auth.set_access_token(access_token, access_token_secret)\n",
    "api = tweepy.API(auth, parser=tweepy.parsers.JSONParser())"
   ]
  },
  {
   "cell_type": "code",
   "execution_count": 17,
   "metadata": {},
   "outputs": [
    {
     "name": "stdout",
     "output_type": "stream",
     "text": [
      "hi\n",
      "hi\n"
     ]
    },
    {
     "name": "stderr",
     "output_type": "stream",
     "text": [
      "/Users/fathielshibani/anaconda3/envs/PythonData/lib/python3.6/site-packages/numpy/core/fromnumeric.py:2957: RuntimeWarning: Mean of empty slice.\n",
      "  out=out, **kwargs)\n",
      "/Users/fathielshibani/anaconda3/envs/PythonData/lib/python3.6/site-packages/numpy/core/_methods.py:80: RuntimeWarning: invalid value encountered in double_scalars\n",
      "  ret = ret.dtype.type(ret / rcount)\n"
     ]
    },
    {
     "name": "stdout",
     "output_type": "stream",
     "text": [
      "{'User': '@BBCNews', 'Compound': nan, 'Positive': nan, 'Neutral': nan, 'Negative': nan, 'Tweet Count': 0}\n",
      "\n",
      "hi\n",
      "hi\n",
      "{'User': '@CBS', 'Compound': nan, 'Positive': nan, 'Neutral': nan, 'Negative': nan, 'Tweet Count': 0}\n",
      "\n",
      "hi\n",
      "hi\n",
      "{'User': '@CNN', 'Compound': nan, 'Positive': nan, 'Neutral': nan, 'Negative': nan, 'Tweet Count': 0}\n",
      "\n",
      "hi\n",
      "hi\n",
      "{'User': '@FoxNews', 'Compound': nan, 'Positive': nan, 'Neutral': nan, 'Negative': nan, 'Tweet Count': 0}\n",
      "\n",
      "hi\n",
      "hi\n",
      "{'User': '@nytimes', 'Compound': nan, 'Positive': nan, 'Neutral': nan, 'Negative': nan, 'Tweet Count': 0}\n",
      "\n"
     ]
    }
   ],
   "source": [
    "# Target News Account\n",
    "target_user = (\"@BBCNews\", \"@CBS\", \"@CNN\", \"@FoxNews\",\"@nytimes\")\n",
    "\n",
    "\n",
    "\n",
    "# Loop through all target users\n",
    "for target in target_user:\n",
    "    # Counter\n",
    "    #counter = 1\n",
    "    \n",
    "    sentiment = []\n",
    "    \n",
    "    # Variables for holding sentiments\n",
    "    compound_list = []\n",
    "    positive_list = []\n",
    "    negative_list = []\n",
    "    neutral_list = []\n",
    "\n",
    "    # Variable for max_id\n",
    "    oldest_tweet = None\n",
    "\n",
    "    # Loop through 5 pages of tweets (total 100 tweets)\n",
    "    for x in range(5):\n",
    "\n",
    "        # Get all tweets from home feed\n",
    "        public_tweets = api.user_timeline(screen_name=target_user, max_id = oldest_tweet, page=x, count=10 )\n",
    "        \n",
    "        # Loop through all tweets \n",
    "        for tweet in public_tweets:\n",
    "\n",
    "            # Run Vader Analysis on each tweet\n",
    "            results = analyzer.polarity_scores(tweet[\"text\"])\n",
    "            print(tweet[\"text\"])\n",
    "            break\n",
    "            compound = results[\"compound\"]\n",
    "            pos = results[\"pos\"]\n",
    "            neu = results[\"neu\"]\n",
    "            neg = results[\"neg\"]\n",
    "            tweets_ago = counter\n",
    "            \n",
    "            # Add each value to the appropriate list\n",
    "            compound_list.append(compound)\n",
    "            positive_list.append(pos)\n",
    "            negative_list.append(neg)\n",
    "            neutral_list.append(neu)\n",
    "\n",
    "            # Get Tweet ID, subtract 1, and assign to oldest_tweet\n",
    "            oldest_tweet = tweet['id'] - 1\n",
    "\n",
    "            # Store the Average Sentiments\n",
    "            sentiment = {\n",
    "                \"User\": target,\n",
    "                \"Compound\": np.mean(compound_list),\n",
    "                \"Positive\": np.mean(positive_list),\n",
    "                \"Neutral\": np.mean(negative_list),\n",
    "                \"Negative\": np.mean(neutral_list),\n",
    "                \"Tweet Count\": len(compound_list)\n",
    "            }\n",
    "\n",
    "            # Add to counter \n",
    "            #counter += 1\n",
    "    \n",
    "    # Store the Average Sentiments\n",
    "    sentiment = {\n",
    "        \"User\": target,\n",
    "        \"Compound\": np.mean(compound_list),\n",
    "        \"Positive\": np.mean(positive_list),\n",
    "        \"Neutral\": np.mean(negative_list),\n",
    "        \"Negative\": np.mean(neutral_list),\n",
    "        \"Tweet Count\": len(compound_list)\n",
    "    }\n",
    "\n",
    "    # Print the Sentiments\n",
    "    print(sentiment)\n",
    "    print()\n"
   ]
  },
  {
   "cell_type": "code",
   "execution_count": null,
   "metadata": {
    "collapsed": true
   },
   "outputs": [],
   "source": [
    "# Convert sentiments to DataFrame\n",
    "sentiments_pd = pd.DataFrame.from_dict(sentiments)\n",
    "sentiments_pd.head()"
   ]
  },
  {
   "cell_type": "code",
   "execution_count": null,
   "metadata": {
    "collapsed": true
   },
   "outputs": [],
   "source": []
  }
 ],
 "metadata": {
  "kernelspec": {
   "display_name": "Python 3",
   "language": "python",
   "name": "python3"
  },
  "language_info": {
   "codemirror_mode": {
    "name": "ipython",
    "version": 3
   },
   "file_extension": ".py",
   "mimetype": "text/x-python",
   "name": "python",
   "nbconvert_exporter": "python",
   "pygments_lexer": "ipython3",
   "version": "3.6.4"
  }
 },
 "nbformat": 4,
 "nbformat_minor": 2
}
